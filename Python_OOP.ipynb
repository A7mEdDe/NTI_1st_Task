{
  "nbformat": 4,
  "nbformat_minor": 0,
  "metadata": {
    "colab": {
      "provenance": []
    },
    "kernelspec": {
      "name": "python3",
      "display_name": "Python 3"
    },
    "language_info": {
      "name": "python"
    }
  },
  "cells": [
    {
      "cell_type": "markdown",
      "source": [
        "## 🧠 Introduction to Object-Oriented Programming (OOP) in Python\n",
        "\n",
        "Object-Oriented Programming (OOP) is a programming paradigm based on the concept of **\"objects\"**, which can contain data (called attributes) and code (called methods).\n",
        "\n",
        "Instead of writing code as a series of functions, OOP allows you to organize your code using **classes and objects**, making it more reusable, readable, and scalable.\n",
        "\n",
        "#### 🔑 Key Concepts of OOP:\n",
        "- **Class**: A blueprint for creating objects.\n",
        "- **Object**: An instance of a class.\n",
        "- **Attribute**: A variable that holds data for an object.\n",
        "- **Method**: A function that belongs to a class.\n",
        "- **Inheritance**: A way to create a new class from an existing one.\n",
        "- **Encapsulation**: Hiding internal details and showing only what’s necessary.\n",
        "- **Polymorphism**: Using the same method name in different classes with different behaviors.\n",
        "\n",
        "Python is a fully object-oriented language, which means **everything in Python is an object**, including numbers, strings, and functions.\n",
        "\n",
        "> OOP helps you model real-world entities in your code, making complex systems easier to manage.\n",
        "\n",
        "#### 🔗 Reference:\n",
        "\n",
        "This Notebook is based on the [Python Object Oriented Programming Full Course 🐍\n",
        "by BroCode](https://youtu.be/IbMDCwVm63M?si=hkMY1Xlkm1qYUBZm).\n"
      ],
      "metadata": {
        "id": "3HjmWyhpxtwR"
      }
    },
    {
      "cell_type": "code",
      "execution_count": null,
      "metadata": {
        "id": "HElvCVFxqDer"
      },
      "outputs": [],
      "source": [
        "class car:\n",
        "    def __init__(self, model, color, year, for_sale):\n",
        "      self.model = model\n",
        "      self.color = color\n",
        "      self.year = year\n",
        "      self.for_sale = for_sale\n",
        "    def stop(self):\n",
        "      return f\"car stopped {self.model} Car\"\n",
        "    def drive(self):\n",
        "      return \"car is driving\""
      ]
    },
    {
      "cell_type": "code",
      "source": [
        "car_1 = car(\"BMW15\", \"Red\", 2020, True)\n",
        "print(car_1)"
      ],
      "metadata": {
        "colab": {
          "base_uri": "https://localhost:8080/"
        },
        "id": "9fEjql_7sbTV",
        "outputId": "4070df07-3a2a-482f-9537-96a0f854c913"
      },
      "execution_count": null,
      "outputs": [
        {
          "output_type": "stream",
          "name": "stdout",
          "text": [
            "<__main__.car object at 0x79e446e2ee50>\n"
          ]
        }
      ]
    },
    {
      "cell_type": "code",
      "source": [
        "print(car_1.stop())\n"
      ],
      "metadata": {
        "colab": {
          "base_uri": "https://localhost:8080/"
        },
        "id": "P-zxObk4spya",
        "outputId": "eef588e8-918e-443c-fe9b-5b1b5c6e2171"
      },
      "execution_count": null,
      "outputs": [
        {
          "output_type": "stream",
          "name": "stdout",
          "text": [
            "car stopped BMW15 Car\n"
          ]
        }
      ]
    },
    {
      "cell_type": "code",
      "source": [
        "class student:\n",
        "  # Global Variable\n",
        "  school_name = \"ABC School\"\n",
        "  student_num = 0\n",
        "  # main Constractor\n",
        "  def __init__(self, name, age, grade):\n",
        "    self.name = name\n",
        "    self.age = age\n",
        "    self.grade = grade\n",
        "    student.student_num += 1\n",
        "\n",
        "\n",
        "student_1 = student(\"Ahmed\", 20, \"A\")\n",
        "student_2 = student(\"Ali\", 21, \"B\")\n",
        "student_3 = student(\"Omar\", 22, \"C\")\n",
        "student_4 = student(\"Mohamed\", 23, \"D\")"
      ],
      "metadata": {
        "id": "RJ1d17visxIW"
      },
      "execution_count": null,
      "outputs": []
    },
    {
      "cell_type": "markdown",
      "source": [
        "### 🔍 What is `self` in Python?\n",
        "\n",
        "In Python's Object-Oriented Programming (OOP), `self` refers to the instance of the class that is currently being used. It allows access to the attributes and methods of the class from within its methods.\n",
        "\n",
        "#### ✅ Why is `self` important?\n",
        "\n",
        "- It differentiates between **instance variables** and **local variables**.\n",
        "- It lets each object created from the class maintain its own data.\n",
        "- Without `self`, the method wouldn’t know which object’s data it should work with.\n",
        "\n",
        "#### 💡 Example:\n",
        "\n",
        "```python\n",
        "class Student:\n",
        "    def __init__(self, name, age):\n",
        "        self.name = name\n",
        "        self.age = age\n",
        "\n",
        "    def introduce(self):\n",
        "        print(f\"My name is {self.name} and I am {self.age} years old.\")\n",
        "\n",
        "student1 = Student(\"Ahmed\", 19)\n",
        "student1.introduce()\n"
      ],
      "metadata": {
        "id": "TlhlXsHnwoS_"
      }
    },
    {
      "cell_type": "code",
      "source": [
        "print(student.student_num)"
      ],
      "metadata": {
        "colab": {
          "base_uri": "https://localhost:8080/"
        },
        "id": "6qeE-dnjwGIT",
        "outputId": "f38accf1-4fc7-44ca-8ddc-068221c32ff2"
      },
      "execution_count": null,
      "outputs": [
        {
          "output_type": "stream",
          "name": "stdout",
          "text": [
            "4\n"
          ]
        }
      ]
    },
    {
      "cell_type": "markdown",
      "source": [
        "## 🧬 Introduction to Inheritance in Python\n",
        "\n",
        "**Inheritance** is one of the core concepts of Object-Oriented Programming (OOP). It allows a class (called the **child** or **subclass**) to inherit the attributes and methods from another class (called the **parent** or **superclass**).\n",
        "\n",
        "This helps in **code reusability** and makes your code more organized and easier to maintain.\n",
        "\n",
        "#### 🔑 Why Use Inheritance?\n",
        "- Avoid code duplication.\n",
        "- Build relationships between classes.\n",
        "- Extend or customize the behavior of existing classes.\n",
        "\n",
        "#### 💡 Example:\n",
        "\n",
        "```python\n",
        "class Animal:\n",
        "    def speak(self):\n",
        "        print(\"The animal makes a sound.\")\n",
        "\n",
        "class Dog(Animal):\n",
        "    def bark(self):\n",
        "        print(\"The dog barks.\")\n",
        "\n",
        "dog = Dog()\n",
        "dog.speak()  # Inherited from Animal\n",
        "dog.bark()   # Defined in Dog\n"
      ],
      "metadata": {
        "id": "0Acj-q20znxz"
      }
    },
    {
      "cell_type": "code",
      "source": [
        "class Animal:\n",
        "  def __init__(self, name):\n",
        "    self.name = name\n",
        "    self.is_alive = True\n",
        "  def eat(self):\n",
        "    print(f\"{self.name} is eating.\")\n",
        "  def sleep(self):\n",
        "    print(f\"{self.name} is sleeping.\")\n",
        "  def move(self):\n",
        "    print(f\"{self.name} is moving.\")\n",
        "  ## Special Method\n",
        "  def speak(self):\n",
        "    print(\"The animal makes a sound.\")\n",
        "class"
      ],
      "metadata": {
        "id": "U1U0aitByVqD"
      },
      "execution_count": null,
      "outputs": []
    },
    {
      "cell_type": "code",
      "source": [
        "class Dog(Animal):\n",
        "  def speak(self):\n",
        "    print(\"The dog barks.\")"
      ],
      "metadata": {
        "id": "oz6PLMOY1NE7"
      },
      "execution_count": null,
      "outputs": []
    },
    {
      "cell_type": "code",
      "source": [
        "dog_1 = Dog(\"Tom\")\n",
        "dog_1.speak()\n",
        "dog_1.move()"
      ],
      "metadata": {
        "colab": {
          "base_uri": "https://localhost:8080/"
        },
        "id": "BChIVrqS1g4K",
        "outputId": "1a51d370-1b3a-418a-b95c-be58cc1ea5a5"
      },
      "execution_count": null,
      "outputs": [
        {
          "output_type": "stream",
          "name": "stdout",
          "text": [
            "The dog barks.\n",
            "Tom is moving.\n"
          ]
        }
      ]
    },
    {
      "cell_type": "markdown",
      "source": [
        "## 🧱 Abstract Classes in Python\n",
        "\n",
        "An **abstract class** is a class that cannot be instantiated directly. It serves as a **blueprint for other classes**. Abstract classes may contain abstract methods, which are methods declared but not implemented — the implementation must be provided by subclasses.\n",
        "\n",
        "In Python, you define an abstract class using the `abc` module.\n",
        "\n",
        "#### 🔧 Key Features:\n",
        "- Defined using `ABC` from the `abc` module.\n",
        "- Can contain both normal methods and abstract methods.\n",
        "- Abstract methods are declared using the `@abstractmethod` decorator.\n",
        "- Any class that inherits from an abstract class **must implement all abstract methods**, otherwise it will also be considered abstract.\n",
        "\n",
        "#### 💡 Example:\n",
        "\n",
        "```python\n",
        "from abc import ABC, abstractmethod\n",
        "\n",
        "class Animal(ABC):\n",
        "    @abstractmethod\n",
        "    def make_sound(self):\n",
        "        pass\n",
        "\n",
        "class Dog(Animal):\n",
        "    def make_sound(self):\n",
        "        print(\"Woof!\")\n",
        "\n",
        "class Cat(Animal):\n",
        "    def make_sound(self):\n",
        "        print(\"Meow!\")\n",
        "\n",
        "# animal = Animal()  # ❌ This will raise an error: can't instantiate abstract class\n",
        "dog = Dog()\n",
        "dog.make_sound()     # Output: Woof!\n"
      ],
      "metadata": {
        "id": "mFuRAmKUc0eL"
      }
    },
    {
      "cell_type": "code",
      "source": [
        "from abc import ABC, abstractmethod\n",
        "class Vehicle(ABC):\n",
        "  @abstractmethod\n",
        "  def go(self):\n",
        "    pass\n",
        "  @abstractmethod\n",
        "  def stop(self):\n",
        "    pass\n",
        "  @abstractmethod\n",
        "  def drive(self):\n",
        "    pass"
      ],
      "metadata": {
        "id": "pl-lYRxs1k_Q"
      },
      "execution_count": null,
      "outputs": []
    },
    {
      "cell_type": "code",
      "source": [
        "class Car(Vehicle):\n",
        "  def __init__(self, model, color, year, for_sale):\n",
        "    self.model = model\n",
        "    self.color = color\n",
        "    self.year = year\n",
        "    self.for_sale = for_sale\n",
        "  def stop(self):\n",
        "    return f\"car stopped {self.model} Car\"\n",
        "  def drive(self):\n",
        "    return \"car is driving\"\n",
        "  def go(self):\n",
        "    return \"car is going\"\n"
      ],
      "metadata": {
        "id": "sdg33vX3d95S"
      },
      "execution_count": null,
      "outputs": []
    },
    {
      "cell_type": "code",
      "source": [
        "car_1 = Car(\"BMW15\", \"Red\", 2020, True)\n",
        "print(car_1.go())\n",
        "#"
      ],
      "metadata": {
        "colab": {
          "base_uri": "https://localhost:8080/"
        },
        "id": "agKrCqhfee1s",
        "outputId": "5470d40c-ddac-44a8-c146-3927f255917d"
      },
      "execution_count": null,
      "outputs": [
        {
          "output_type": "stream",
          "name": "stdout",
          "text": [
            "car is going\n"
          ]
        }
      ]
    },
    {
      "cell_type": "code",
      "source": [
        "class Motorcycle(Vehicle):\n",
        "  def __init__(self, model, color, year, for_sale):\n",
        "    self.model = model\n",
        "    self.color = color\n",
        "    self.year = year\n",
        "    self.for_sale = for_sale\n",
        "  def stop(self):\n",
        "    return f\"Motorcycle stopped {self.model} Car\"\n",
        "  def drive(self):\n",
        "    return \"Motorcycle is driving\"\n",
        "  def go(self):\n",
        "    return \"Motorcycle is going\""
      ],
      "metadata": {
        "id": "B0Tjb3D0eitX"
      },
      "execution_count": null,
      "outputs": []
    },
    {
      "cell_type": "code",
      "source": [
        "bike_1 = Motorcycle(\"BMW15\", \"Red\", 2020, True)\n",
        "print(bike_1.drive())\n",
        "#"
      ],
      "metadata": {
        "colab": {
          "base_uri": "https://localhost:8080/"
        },
        "id": "WzINsqndezx8",
        "outputId": "1e5177c1-e0d4-4b9f-ec34-20f4104546e6"
      },
      "execution_count": null,
      "outputs": [
        {
          "output_type": "stream",
          "name": "stdout",
          "text": [
            "Motorcycle is driving\n"
          ]
        }
      ]
    },
    {
      "cell_type": "markdown",
      "source": [
        "## 🧩 Understanding `super()` in Python\n",
        "\n",
        "The `super()` function in Python is used to give access to methods and constructors of a **parent (superclass)** from a **child class**.\n",
        "\n",
        "It is most commonly used to call the **parent class's constructor (`__init__`)** or override methods while still accessing the original behavior.\n",
        "\n",
        "#### 🔧 Why Use `super()`?\n",
        "- To avoid duplicating code in child classes.\n",
        "- To extend or customize parent class methods.\n",
        "- To follow the DRY (Don't Repeat Yourself) principle.\n",
        "- Useful in multiple inheritance scenarios.\n",
        "\n",
        "#### 💡 Example 1: Calling the parent constructor\n",
        "\n",
        "```python\n",
        "class Animal:\n",
        "    def __init__(self, name):\n",
        "        self.name = name\n",
        "\n",
        "class Dog(Animal):\n",
        "    def __init__(self, name, breed):\n",
        "        super().__init__(name)  # Call parent constructor\n",
        "        self.breed = breed\n",
        "\n",
        "dog = Dog(\"Rex\", \"Labrador\")\n",
        "print(dog.name)   # Output: Rex\n",
        "print(dog.breed)  # Output: Labrador\n"
      ],
      "metadata": {
        "id": "ftd7oCzKfO8W"
      }
    },
    {
      "cell_type": "code",
      "source": [
        "class shape(ABC):\n",
        "  @abstractmethod\n",
        "  def __init__(self, color, is_filled):\n",
        "    self.color = color\n",
        "    self.is_filled = is_filled\n",
        "  @abstractmethod\n",
        "  def Area(self):\n",
        "    pass"
      ],
      "metadata": {
        "id": "x9y4nRHBe3uF"
      },
      "execution_count": null,
      "outputs": []
    },
    {
      "cell_type": "code",
      "source": [
        "class Circle(shape):\n",
        "  def __init__(self, color, is_filled, radius):\n",
        "    super().__init__(color, is_filled)\n",
        "    self.radius = radius\n",
        "  def Area(self):\n",
        "    return 3.14 * self.radius * self.radius\n",
        "\n",
        "class Square(shape):\n",
        "  def __init__(self, color, is_filled, side):\n",
        "    super().__init__(color, is_filled)\n",
        "    self.side = side\n",
        "  def Area(self):\n",
        "    return self.side * self.side\n",
        "\n",
        "class Triangle(shape):\n",
        "  def __init__(self, color, is_filled, Width, height):\n",
        "    super().__init__(color, is_filled)\n",
        "    self.Width = Width\n",
        "    self.height = height\n",
        "  def Area(self):\n",
        "    return 0.5 * self.Width * self.height"
      ],
      "metadata": {
        "id": "DSvX-q-DgCno"
      },
      "execution_count": null,
      "outputs": []
    },
    {
      "cell_type": "code",
      "source": [
        "Square_1 = Square(\"Red\", True, 5)\n",
        "print(Square_1.Area())\n",
        "#"
      ],
      "metadata": {
        "colab": {
          "base_uri": "https://localhost:8080/"
        },
        "id": "jIgkeSpMhyfj",
        "outputId": "6907e364-3307-43e4-909b-c57857910ae0"
      },
      "execution_count": null,
      "outputs": [
        {
          "output_type": "stream",
          "name": "stdout",
          "text": [
            "25\n"
          ]
        }
      ]
    },
    {
      "cell_type": "code",
      "source": [
        "Circle_1 = Circle(\"Red\", True, 5)\n",
        "print(Circle_1.Area())\n",
        "#"
      ],
      "metadata": {
        "colab": {
          "base_uri": "https://localhost:8080/"
        },
        "id": "3v1WTR06h9PI",
        "outputId": "3681e905-cc2f-4cf8-be93-a5ea2637d966"
      },
      "execution_count": null,
      "outputs": [
        {
          "output_type": "stream",
          "name": "stdout",
          "text": [
            "78.5\n"
          ]
        }
      ]
    },
    {
      "cell_type": "code",
      "source": [
        "Triangle_1 = Triangle(\"Red\", True, 5, 10)\n",
        "print(Triangle_1.Area())\n",
        "#"
      ],
      "metadata": {
        "colab": {
          "base_uri": "https://localhost:8080/"
        },
        "id": "rjzU5NATh_J7",
        "outputId": "7d36ffde-4abc-4f2a-f3ad-ce1fb686495e"
      },
      "execution_count": null,
      "outputs": [
        {
          "output_type": "stream",
          "name": "stdout",
          "text": [
            "25.0\n"
          ]
        }
      ]
    },
    {
      "cell_type": "markdown",
      "source": [
        "## 🌀 Polymorphism in Python\n",
        "\n",
        "**Polymorphism** means \"many forms\". In Object-Oriented Programming (OOP), it allows different classes to implement the same method in different ways.\n",
        "\n",
        "This makes your code more flexible and extensible by allowing you to use the same interface (method name) for different types of objects.\n",
        "\n",
        "#### 🔑 Why Use Polymorphism?\n",
        "- To write more generic and reusable code.\n",
        "- To perform the same action in different ways depending on the object.\n",
        "- To reduce complexity and increase code flexibility.\n",
        "\n",
        "#### 💡 Example: Polymorphism with methods\n",
        "\n",
        "```python\n",
        "class Cat:\n",
        "    def speak(self):\n",
        "        return \"Meow\"\n",
        "\n",
        "class Dog:\n",
        "    def speak(self):\n",
        "        return \"Woof\"\n",
        "\n",
        "def animal_sound(animal):\n",
        "    print(animal.speak())\n",
        "\n",
        "cat = Cat()\n",
        "dog = Dog()\n",
        "\n",
        "animal_sound(cat)  # Output: Meow\n",
        "animal_sound(dog)  # Output: Woof\n"
      ],
      "metadata": {
        "id": "GAD-ekFLigks"
      }
    },
    {
      "cell_type": "code",
      "source": [
        "shapes = [Circle(\"blue\", True, 5), Triangle(\"red\", True, 4, 3), Square(\"black\", True, 7)]"
      ],
      "metadata": {
        "id": "oStI2A_UiI34"
      },
      "execution_count": null,
      "outputs": []
    },
    {
      "cell_type": "code",
      "source": [
        "for shape in shapes:\n",
        "  print(shape.Area())"
      ],
      "metadata": {
        "colab": {
          "base_uri": "https://localhost:8080/"
        },
        "id": "6PnSfRcCmSHh",
        "outputId": "89c5610b-8dd6-4e0e-d4b7-7d93a8bcbab2"
      },
      "execution_count": null,
      "outputs": [
        {
          "output_type": "stream",
          "name": "stdout",
          "text": [
            "78.5\n",
            "6.0\n",
            "49\n"
          ]
        }
      ]
    },
    {
      "cell_type": "markdown",
      "source": [
        "## 🦆 Duck Typing in Python\n",
        "\n",
        "**Duck Typing** is a concept in Python and other dynamically-typed languages where an object’s **behavior** determines its validity for use—not its actual type.\n",
        "\n",
        "The name comes from the saying:\n",
        "> “If it looks like a duck, swims like a duck, and quacks like a duck, then it probably is a duck.”\n",
        "\n",
        "In Python, you don’t need to check an object’s type explicitly. If the object implements the required **methods or properties**, it can be used — regardless of its class.\n",
        "\n",
        "#### 🔧 Why Use Duck Typing?\n",
        "- Makes code more flexible and easier to reuse.\n",
        "- Avoids rigid type checks (`isinstance()` or `type()`).\n",
        "- Encourages coding by behavior, not structure.\n",
        "\n",
        "#### 💡 Example:\n",
        "\n",
        "```python\n",
        "class Duck:\n",
        "    def quack(self):\n",
        "        print(\"Quack!\")\n",
        "\n",
        "class Person:\n",
        "    def quack(self):\n",
        "        print(\"I'm imitating a duck!\")\n",
        "\n",
        "def make_it_quack(thing):\n",
        "    thing.quack()\n",
        "\n",
        "duck = Duck()\n",
        "person = Person()\n",
        "\n",
        "make_it_quack(duck)    # Output: Quack!\n",
        "make_it_quack(person)  # Output: I'm imitating a duck!\n"
      ],
      "metadata": {
        "id": "J7HGsSznnTJR"
      }
    },
    {
      "cell_type": "code",
      "source": [
        "class Animal:\n",
        "  alive = True\n",
        "\n",
        "class Dog(Animal):\n",
        "  def speak(self):\n",
        "    print(\"WOOF!\")\n",
        "\n",
        "class Cat(Animal):\n",
        "  def speak(self):\n",
        "    print(\"Meow!\")\n",
        "\n",
        "class Car:\n",
        "  def speak(self):\n",
        "    print(\"Vroom!\")\n",
        "# class"
      ],
      "metadata": {
        "id": "m_11EBHCmVbD"
      },
      "execution_count": null,
      "outputs": []
    },
    {
      "cell_type": "code",
      "source": [
        "Animals = [Dog(), Cat(), Car()]\n",
        "\n",
        "for animal in Animals:\n",
        "  animal.speak()"
      ],
      "metadata": {
        "colab": {
          "base_uri": "https://localhost:8080/"
        },
        "id": "zu_EicISo9HI",
        "outputId": "66d2957c-1226-49e7-da37-0eebfb38324d"
      },
      "execution_count": null,
      "outputs": [
        {
          "output_type": "stream",
          "name": "stdout",
          "text": [
            "WOOF!\n",
            "Meow!\n",
            "Vroom!\n"
          ]
        }
      ]
    },
    {
      "cell_type": "markdown",
      "source": [
        "### 🧱 Aggregation in Python OOP\n",
        "\n",
        "**Aggregation** is a special type of association in Object-Oriented Programming where one class **\"has-a\"** reference to another class — meaning one class **contains** another class, but the contained object can **exist independently** of the container.\n",
        "\n",
        "It represents a **\"whole-part\"** relationship, but with **looser coupling** than composition.\n",
        "\n",
        "#### 🆚 Aggregation vs. Composition:\n",
        "- **Aggregation**: The part can live **independently** of the whole.\n",
        "- **Composition**: The part **cannot exist** without the whole.\n",
        "\n",
        "#### 🔧 Why Use Aggregation?\n",
        "- To model real-world relationships (e.g. a Team has Players).\n",
        "- To reuse components across different objects or systems.\n",
        "- To maintain a modular and flexible codebase.\n",
        "\n",
        "#### 💡 Example: Aggregation in Python\n",
        "\n",
        "```python\n",
        "class Engine:\n",
        "    def __init__(self, horsepower):\n",
        "        self.horsepower = horsepower\n",
        "\n",
        "class Car:\n",
        "    def __init__(self, model, engine):\n",
        "        self.model = model\n",
        "        self.engine = engine  # Aggregation: Car has an Engine\n",
        "\n",
        "engine1 = Engine(200)\n",
        "car1 = Car(\"Toyota\", engine1)\n",
        "\n",
        "print(car1.model)             # Output: Toyota\n",
        "print(car1.engine.horsepower)  # Output: 200\n"
      ],
      "metadata": {
        "id": "l8BmFeeUqXVy"
      }
    },
    {
      "cell_type": "code",
      "source": [
        "class Library:\n",
        "  def __init__(self, name):\n",
        "    self.name = name\n",
        "    self.books = []\n",
        "\n",
        "  def show_books(self):\n",
        "    i = 0\n",
        "    for book in self.books:\n",
        "      print(f\"Num {i + 1} --> Name : {book.title}, Author : {book.author}\")\n",
        "      i += 1\n",
        "\n",
        "  def Add_Book(self, book):\n",
        "    self.books.append(book)\n",
        "\n",
        "  def Remove_Book(self, book):\n",
        "    self.books.remove(book)"
      ],
      "metadata": {
        "id": "8otxtxWDpP4l"
      },
      "execution_count": null,
      "outputs": []
    },
    {
      "cell_type": "code",
      "source": [
        "class Book:\n",
        "  def __init__(self, title, author):\n",
        "    self.title = title\n",
        "    self.author = author"
      ],
      "metadata": {
        "id": "rkq5amdJqmye"
      },
      "execution_count": null,
      "outputs": []
    },
    {
      "cell_type": "code",
      "source": [
        "Library_1 = Library(\"ABC Library\")\n",
        "\n",
        "Book_1 = Book(\"Python\", \"Ahmed\")\n",
        "Library_1.Add_Book(Book_1)\n",
        "# Library_1.show_books()\n",
        "\n",
        "Book_2 = Book(\"Java\", \"Ali\")\n",
        "Library_1.Add_Book(Book_2)\n",
        "# Library_1.show_books()\n",
        "\n",
        "Book_3 = Book(\"C++\", \"Omar\")\n",
        "Library_1.Add_Book(Book_3)\n",
        "# Library_1.show_books()"
      ],
      "metadata": {
        "id": "w5C24VsXq9Gw"
      },
      "execution_count": null,
      "outputs": []
    },
    {
      "cell_type": "code",
      "source": [
        "Library_1.show_books()"
      ],
      "metadata": {
        "colab": {
          "base_uri": "https://localhost:8080/"
        },
        "id": "Fk8bQsFSrKYH",
        "outputId": "a67c1991-93de-4575-be83-d3123a74ada4"
      },
      "execution_count": null,
      "outputs": [
        {
          "output_type": "stream",
          "name": "stdout",
          "text": [
            "Num 1 --> Name : Python, Author : Ahmed\n",
            "Num 2 --> Name : Java, Author : Ali\n",
            "Num 3 --> Name : C++, Author : Omar\n"
          ]
        }
      ]
    },
    {
      "cell_type": "markdown",
      "source": [
        "## 🧩 Composition in Python OOP\n",
        "\n",
        "**Composition** is a design principle in Object-Oriented Programming (OOP) where one class is **composed of one or more objects** of other classes. It represents a **\"has-a\"** relationship, just like aggregation.\n",
        "\n",
        "But unlike aggregation, in **composition** the \"part\" object is **created inside** the \"whole\" and **cannot exist independently** of it.\n",
        "\n",
        "#### 🆚 Composition vs Aggregation:\n",
        "| Feature       | Composition                   | Aggregation                      |\n",
        "|---------------|-------------------------------|----------------------------------|\n",
        "| Relationship  | Strong \"has-a\"                | Weak \"has-a\"                     |\n",
        "| Lifetime      | Part depends on the whole     | Part can live independently      |\n",
        "| Object Scope  | Created inside the class      | Passed from outside              |\n",
        "\n",
        "#### 💡 Example: Composition in Python\n",
        "\n",
        "```python\n",
        "class Engine:\n",
        "    def __init__(self):\n",
        "        self.horsepower = 150\n",
        "\n",
        "class Car:\n",
        "    def __init__(self, model):\n",
        "        self.model = model\n",
        "        self.engine = Engine()  # Composition: Car creates its own Engine\n",
        "\n",
        "car1 = Car(\"Honda\")\n",
        "print(car1.model)               # Output: Honda\n",
        "print(car1.engine.horsepower)  # Output: 150\n"
      ],
      "metadata": {
        "id": "jUHwp5k4sTI5"
      }
    },
    {
      "cell_type": "code",
      "source": [
        "class Engine:\n",
        "  def __init__(self, horsepower):\n",
        "    self.horsepower = horsepower\n",
        "\n",
        "class Wheel:\n",
        "  def __init__(self, size):\n",
        "    self.size = size"
      ],
      "metadata": {
        "id": "6XJKKf10rfGv"
      },
      "execution_count": null,
      "outputs": []
    },
    {
      "cell_type": "code",
      "source": [
        "class Car:\n",
        "  def __init__(self, make, model, horsepower, Wheel_size):\n",
        "    self.make = make\n",
        "    self.model = model\n",
        "    self.engine = Engine(horsepower)\n",
        "    self.Wheels = [Wheel(Wheel_size) for i in range(4)]\n",
        "  def display(self):\n",
        "    return f\"{self.make} {self.model} {self.engine.horsepower} {self.Wheels[0].size} \\n\""
      ],
      "metadata": {
        "id": "ZpR_GxJzLX2G"
      },
      "execution_count": null,
      "outputs": []
    },
    {
      "cell_type": "code",
      "source": [
        "car_1 = Car(\"Toyota\", \"Camry\", 200, 16)\n",
        "print(car_1.display())"
      ],
      "metadata": {
        "colab": {
          "base_uri": "https://localhost:8080/"
        },
        "id": "-ipE4OovMhL-",
        "outputId": "1cf25c36-e5a9-488f-f0b9-26815d5c682e"
      },
      "execution_count": null,
      "outputs": [
        {
          "output_type": "stream",
          "name": "stdout",
          "text": [
            "Toyota Camry 200 16 \n",
            "\n"
          ]
        }
      ]
    },
    {
      "cell_type": "code",
      "source": [
        "car_2 = Car(\"Honda\", \"Civic\", 150, 14)\n",
        "print(car_2.display())"
      ],
      "metadata": {
        "colab": {
          "base_uri": "https://localhost:8080/"
        },
        "id": "ZmBwdTNVM3l-",
        "outputId": "a363a237-dd97-48bc-9818-8e999a963437"
      },
      "execution_count": null,
      "outputs": [
        {
          "output_type": "stream",
          "name": "stdout",
          "text": [
            "Honda Civic 150 14 \n",
            "\n"
          ]
        }
      ]
    },
    {
      "cell_type": "markdown",
      "source": [
        "## 📦 Nested Classes in Python\n",
        "\n",
        "A **nested class** is a class defined **inside another class**. This structure is used when you want to logically group classes that are **only used in one place** — usually when one class is **tightly related** to another.\n",
        "\n",
        "#### 🧠 Why Use Nested Classes?\n",
        "- To group related logic together.\n",
        "- To indicate that the inner class is **only used within** the outer class.\n",
        "- To improve code organization and readability.\n",
        "\n",
        "#### 💡 Example:\n",
        "\n",
        "```python\n",
        "class Person:\n",
        "    def __init__(self, name, day, month, year):\n",
        "        self.name = name\n",
        "        self.dob = self.DateOfBirth(day, month, year)\n",
        "\n",
        "    def show(self):\n",
        "        print(f\"Name: {self.name}\")\n",
        "        self.dob.display()\n",
        "\n",
        "    class DateOfBirth:\n",
        "        def __init__(self, day, month, year):\n",
        "            self.day = day\n",
        "            self.month = month\n",
        "            self.year = year\n",
        "\n",
        "        def display(self):\n",
        "            print(f\"DOB: {self.day}/{self.month}/{self.year}\")\n",
        "\n",
        "p = Person(\"Ahmed\", 1, 1, 2000)\n",
        "p.show()\n"
      ],
      "metadata": {
        "id": "6fsYxm7yOWxW"
      }
    },
    {
      "cell_type": "code",
      "source": [
        "from re import I\n",
        "class Company:\n",
        "  class Employee:\n",
        "      def __init__(self, name, salary):\n",
        "        self.name = name\n",
        "        self.salary = salary\n",
        "      def show(self):\n",
        "        print(f\"Name : {self.name} Salary : {self.salary}\")\n",
        "\n",
        "  def __init__(self, Company_name):\n",
        "    self.Company_name = Company_name\n",
        "    self.Employees = []\n",
        "\n",
        "  def Add_Employee(self, name, Salary):\n",
        "    # ❌ ERROR: Cannot use 'Employee' directly because it's a nested class inside 'Company'.\n",
        "    # You must access it using 'Company.Employee' or 'self.Employee'.\"\n",
        "    self.Employees.append(Company.Employee(name, Salary))\n",
        "\n",
        "  def list_employees(self):\n",
        "    i = 0\n",
        "    for employee in self.Employees:\n",
        "      print(f\"{i + 1} --> Name : {employee.name}, Salary : {employee.salary}\")\n",
        "      i += 1\n"
      ],
      "metadata": {
        "id": "hIc5tTbbN0Fk"
      },
      "execution_count": null,
      "outputs": []
    },
    {
      "cell_type": "markdown",
      "source": [
        "> ⚠️ **Note:** Since `Employee` is a nested class inside `Company`, you must reference it using `Company.Employee` or `self.Employee`. Trying to use `Employee` alone will result in a `NameError` because it's not defined in the current scope.\n",
        "```python\n",
        "    self.Employees.append(Company.Employee(name, Salary))    # ✅ Fixed\n"
      ],
      "metadata": {
        "id": "blJumxPVU03i"
      }
    },
    {
      "cell_type": "code",
      "source": [
        "Company_1 = Company(\"ABC Company\")\n",
        "\n",
        "Company_1.Add_Employee(\"Ahmed\", 1000)\n",
        "Company_1.Add_Employee(\"Ali\", 2000)\n",
        "Company_1.Add_Employee(\"Omar\", 3000)\n",
        "#\n",
        "\n",
        "Company_1.list_employees()"
      ],
      "metadata": {
        "colab": {
          "base_uri": "https://localhost:8080/"
        },
        "id": "iuHdadWqT5m3",
        "outputId": "ef322437-a8a7-4597-95a6-9833e48437ad"
      },
      "execution_count": null,
      "outputs": [
        {
          "output_type": "stream",
          "name": "stdout",
          "text": [
            "1 --> Name : Ahmed, Salary : 1000\n",
            "2 --> Name : Ali, Salary : 2000\n",
            "3 --> Name : Omar, Salary : 3000\n"
          ]
        }
      ]
    }
  ]
}